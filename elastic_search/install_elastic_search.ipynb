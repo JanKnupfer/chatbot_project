{
 "cells": [
  {
   "cell_type": "code",
   "execution_count": null,
   "outputs": [],
   "source": [
    "%pip install wget"
   ],
   "metadata": {
    "collapsed": false,
    "pycharm": {
     "name": "#%%\n"
    }
   }
  },
  {
   "cell_type": "code",
   "execution_count": 3,
   "outputs": [],
   "source": [
    "import zipfile\n",
    "import os\n",
    "import wget\n",
    "import sys\n",
    "from os.path import exists"
   ],
   "metadata": {
    "collapsed": false,
    "pycharm": {
     "name": "#%%\n"
    }
   }
  },
  {
   "cell_type": "code",
   "execution_count": 4,
   "outputs": [],
   "source": [
    "# Variables\n",
    "store_dir = os.getcwd()\n",
    "file_name_zip = 'elasticsearch.zip'\n",
    "file_path_zip = store_dir + '\\\\' + file_name_zip\n",
    "extraction_directory = store_dir + '\\\\elasticsearch'\n",
    "\n",
    "download_url = 'https://artifacts.elastic.co/downloads/elasticsearch/elasticsearch-8.2.2-windows-x86_64.zip'"
   ],
   "metadata": {
    "collapsed": false,
    "pycharm": {
     "name": "#%%\n"
    }
   }
  },
  {
   "cell_type": "markdown",
   "metadata": {
    "pycharm": {
     "name": "#%% md\n"
    }
   },
   "source": [
    "# Download"
   ]
  },
  {
   "cell_type": "code",
   "execution_count": null,
   "metadata": {
    "pycharm": {
     "name": "#%%\n"
    }
   },
   "outputs": [],
   "source": [
    "#create this bar_progress method which is invoked automatically from wget\n",
    "def bar_progress(current, total, width=80):\n",
    "    progress_message = \"Downloading: %d%% [%d / %d] bytes\" % (current / total * 100, current, total)\n",
    "    # Don't use print() as it will print in new line every time.\n",
    "    sys.stdout.write(\"\\r\" + progress_message)\n",
    "    sys.stdout.flush()\n",
    "\n",
    "file_exists = exists(store_dir + '\\\\' + file_name_zip)\n",
    "if not file_exists:\n",
    "    wget.download(download_url, out=file_name_zip, bar=bar_progress);\n",
    "    print(\"File already downloaded\")\n"
   ]
  },
  {
   "cell_type": "markdown",
   "metadata": {
    "pycharm": {
     "name": "#%% md\n"
    }
   },
   "source": [
    "# Unzip"
   ]
  },
  {
   "cell_type": "code",
   "execution_count": null,
   "metadata": {
    "pycharm": {
     "name": "#%%\n"
    }
   },
   "outputs": [],
   "source": [
    "file_exists = exists(store_dir + '\\\\elasticsearch\\\\elasticsearch-8.2.2')\n",
    "with zipfile.ZipFile(file_path_zip, 'r') as zip_ref:\n",
    "    if file_exists:\n",
    "        print(\"File already extracted\")\n",
    "    else:\n",
    "        zip_ref.extractall(extraction_directory)"
   ]
  },
  {
   "cell_type": "markdown",
   "metadata": {
    "pycharm": {
     "name": "#%% md\n"
    }
   },
   "source": [
    "# Start es"
   ]
  },
  {
   "cell_type": "code",
   "execution_count": null,
   "metadata": {
    "pycharm": {
     "name": "#%%\n"
    }
   },
   "outputs": [
    {
     "name": "stdout",
     "output_type": "stream",
     "text": [
      "YOU HAVE TO COPY THE PASSWORD FROM THE COMMAND PROMPT INTO credentials.json!\n"
     ]
    }
   ],
   "source": [
    "print(\"Starting elastic search\")\n",
    "print(\"Wait until elastic search displays your login password\")\n",
    "print(\"YOU HAVE TO COPY THE PASSWORD FROM THE COMMAND PROMPT INTO credentials.json!\")\n",
    "\n",
    "os.system('start /wait cmd /c \"elasticsearch\\\\elasticsearch-8.2.2\\\\bin\\\\elasticsearch.bat\"')\n"
   ]
  }
 ],
 "metadata": {
  "kernelspec": {
   "display_name": "Python 3 (ipykernel)",
   "language": "python",
   "name": "python3"
  },
  "language_info": {
   "codemirror_mode": {
    "name": "ipython",
    "version": 3
   },
   "file_extension": ".py",
   "mimetype": "text/x-python",
   "name": "python",
   "nbconvert_exporter": "python",
   "pygments_lexer": "ipython3",
   "version": "3.10.5"
  }
 },
 "nbformat": 4,
 "nbformat_minor": 1
}