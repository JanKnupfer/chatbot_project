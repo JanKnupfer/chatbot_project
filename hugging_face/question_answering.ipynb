{
 "cells": [
  {
   "cell_type": "code",
   "execution_count": 3,
   "metadata": {
    "pycharm": {
     "name": "#%%\n"
    }
   },
   "outputs": [
    {
     "name": "stdout",
     "output_type": "stream",
     "text": [
      "Requirement already satisfied: elasticsearch in c:\\users\\chatbot\\pycharmprojects\\chatbot_project\\venv\\lib\\site-packages (8.2.3)\n",
      "Requirement already satisfied: elastic-transport<9,>=8 in c:\\users\\chatbot\\pycharmprojects\\chatbot_project\\venv\\lib\\site-packages (from elasticsearch) (8.1.2)\n",
      "Requirement already satisfied: certifi in c:\\users\\chatbot\\pycharmprojects\\chatbot_project\\venv\\lib\\site-packages (from elastic-transport<9,>=8->elasticsearch) (2022.6.15)\n",
      "Requirement already satisfied: urllib3<2,>=1.26.2 in c:\\users\\chatbot\\pycharmprojects\\chatbot_project\\venv\\lib\\site-packages (from elastic-transport<9,>=8->elasticsearch) (1.26.9)\n",
      "Note: you may need to restart the kernel to use updated packages.\n"
     ]
    },
    {
     "name": "stderr",
     "output_type": "stream",
     "text": [
      "WARNING: You are using pip version 21.3.1; however, version 22.1.2 is available.\n",
      "You should consider upgrading via the 'C:\\Users\\chatbot\\PycharmProjects\\chatbot_project\\venv\\Scripts\\python.exe -m pip install --upgrade pip' command.\n"
     ]
    }
   ],
   "source": [
    "%pip install elasticsearch"
   ]
  },
  {
   "cell_type": "code",
   "execution_count": 4,
   "metadata": {
    "pycharm": {
     "name": "#%%\n"
    }
   },
   "outputs": [
    {
     "name": "stdout",
     "output_type": "stream",
     "text": [
      "Requirement already satisfied: transformers in c:\\users\\chatbot\\pycharmprojects\\chatbot_project\\venv\\lib\\site-packages (4.19.4)\n",
      "Requirement already satisfied: regex!=2019.12.17 in c:\\users\\chatbot\\pycharmprojects\\chatbot_project\\venv\\lib\\site-packages (from transformers) (2022.6.2)\n",
      "Requirement already satisfied: packaging>=20.0 in c:\\users\\chatbot\\pycharmprojects\\chatbot_project\\venv\\lib\\site-packages (from transformers) (21.3)\n",
      "Requirement already satisfied: huggingface-hub<1.0,>=0.1.0 in c:\\users\\chatbot\\pycharmprojects\\chatbot_project\\venv\\lib\\site-packages (from transformers) (0.7.0)\n",
      "Requirement already satisfied: filelock in c:\\users\\chatbot\\pycharmprojects\\chatbot_project\\venv\\lib\\site-packages (from transformers) (3.7.1)\n",
      "Requirement already satisfied: tokenizers!=0.11.3,<0.13,>=0.11.1 in c:\\users\\chatbot\\pycharmprojects\\chatbot_project\\venv\\lib\\site-packages (from transformers) (0.12.1)\n",
      "Requirement already satisfied: pyyaml>=5.1 in c:\\users\\chatbot\\pycharmprojects\\chatbot_project\\venv\\lib\\site-packages (from transformers) (6.0)\n",
      "Requirement already satisfied: tqdm>=4.27 in c:\\users\\chatbot\\pycharmprojects\\chatbot_project\\venv\\lib\\site-packages (from transformers) (4.64.0)\n",
      "Requirement already satisfied: numpy>=1.17 in c:\\users\\chatbot\\pycharmprojects\\chatbot_project\\venv\\lib\\site-packages (from transformers) (1.22.4)\n",
      "Requirement already satisfied: requests in c:\\users\\chatbot\\pycharmprojects\\chatbot_project\\venv\\lib\\site-packages (from transformers) (2.28.0)\n",
      "Requirement already satisfied: typing-extensions>=3.7.4.3 in c:\\users\\chatbot\\pycharmprojects\\chatbot_project\\venv\\lib\\site-packages (from huggingface-hub<1.0,>=0.1.0->transformers) (4.2.0)\n",
      "Requirement already satisfied: pyparsing!=3.0.5,>=2.0.2 in c:\\users\\chatbot\\pycharmprojects\\chatbot_project\\venv\\lib\\site-packages (from packaging>=20.0->transformers) (3.0.9)\n",
      "Requirement already satisfied: colorama in c:\\users\\chatbot\\pycharmprojects\\chatbot_project\\venv\\lib\\site-packages (from tqdm>=4.27->transformers) (0.4.4)\n",
      "Requirement already satisfied: idna<4,>=2.5 in c:\\users\\chatbot\\pycharmprojects\\chatbot_project\\venv\\lib\\site-packages (from requests->transformers) (3.3)\n",
      "Requirement already satisfied: certifi>=2017.4.17 in c:\\users\\chatbot\\pycharmprojects\\chatbot_project\\venv\\lib\\site-packages (from requests->transformers) (2022.6.15)\n",
      "Requirement already satisfied: urllib3<1.27,>=1.21.1 in c:\\users\\chatbot\\pycharmprojects\\chatbot_project\\venv\\lib\\site-packages (from requests->transformers) (1.26.9)\n",
      "Requirement already satisfied: charset-normalizer~=2.0.0 in c:\\users\\chatbot\\pycharmprojects\\chatbot_project\\venv\\lib\\site-packages (from requests->transformers) (2.0.12)\n",
      "Note: you may need to restart the kernel to use updated packages.\n"
     ]
    },
    {
     "name": "stderr",
     "output_type": "stream",
     "text": [
      "WARNING: You are using pip version 21.3.1; however, version 22.1.2 is available.\n",
      "You should consider upgrading via the 'C:\\Users\\chatbot\\PycharmProjects\\chatbot_project\\venv\\Scripts\\python.exe -m pip install --upgrade pip' command.\n"
     ]
    }
   ],
   "source": [
    "%pip install transformers"
   ]
  },
  {
   "cell_type": "code",
   "execution_count": 5,
   "metadata": {
    "pycharm": {
     "name": "#%%\n"
    }
   },
   "outputs": [
    {
     "name": "stdout",
     "output_type": "stream",
     "text": [
      "Note: you may need to restart the kernel to use updated packages.\n"
     ]
    },
    {
     "name": "stderr",
     "output_type": "stream",
     "text": [
      "WARNING: You are using pip version 21.3.1; however, version 22.1.2 is available.\n",
      "You should consider upgrading via the 'C:\\Users\\chatbot\\PycharmProjects\\chatbot_project\\venv\\Scripts\\python.exe -m pip install --upgrade pip' command.\n"
     ]
    },
    {
     "name": "stdout",
     "output_type": "stream",
     "text": [
      "Requirement already satisfied: torch in c:\\users\\chatbot\\pycharmprojects\\chatbot_project\\venv\\lib\\site-packages (1.11.0)\n",
      "Requirement already satisfied: typing-extensions in c:\\users\\chatbot\\pycharmprojects\\chatbot_project\\venv\\lib\\site-packages (from torch) (4.2.0)\n"
     ]
    }
   ],
   "source": [
    "%pip install torch"
   ]
  },
  {
   "cell_type": "code",
   "execution_count": 6,
   "metadata": {
    "pycharm": {
     "name": "#%%\n"
    }
   },
   "outputs": [],
   "source": [
    "from elastic_search.utilities.login import login\n",
    "from utilities.es_search import search_es\n",
    "from transformers import pipeline\n",
    "import json"
   ]
  },
  {
   "cell_type": "markdown",
   "metadata": {
    "pycharm": {
     "name": "#%% md\n"
    }
   },
   "source": [
    "# Variables"
   ]
  },
  {
   "cell_type": "code",
   "execution_count": 7,
   "metadata": {
    "pycharm": {
     "name": "#%%\n"
    }
   },
   "outputs": [],
   "source": [
    "# Get index name\n",
    "with open('..\\\\elastic_search\\\\utilities\\\\index_config.json') as file:\n",
    "    index_name = json.load(file)[0]['index_name']"
   ]
  },
  {
   "cell_type": "markdown",
   "metadata": {
    "pycharm": {
     "name": "#%% md\n"
    }
   },
   "source": [
    "# Connect to elastic search"
   ]
  },
  {
   "cell_type": "code",
   "execution_count": 8,
   "metadata": {
    "pycharm": {
     "name": "#%%\n"
    }
   },
   "outputs": [
    {
     "name": "stdout",
     "output_type": "stream",
     "text": [
      "Connecting to elastic search...\n"
     ]
    },
    {
     "name": "stderr",
     "output_type": "stream",
     "text": [
      "C:\\Users\\chatbot\\PycharmProjects\\chatbot_project\\venv\\lib\\site-packages\\elasticsearch\\_sync\\client\\__init__.py:395: SecurityWarning: Connecting to 'https://localhost:9200' using TLS with verify_certs=False is insecure\n",
      "  _transport = transport_class(\n"
     ]
    },
    {
     "name": "stdout",
     "output_type": "stream",
     "text": [
      "Connection to elastic search successfully established\n"
     ]
    },
    {
     "name": "stderr",
     "output_type": "stream",
     "text": [
      "C:\\Users\\chatbot\\PycharmProjects\\chatbot_project\\venv\\lib\\site-packages\\urllib3\\connectionpool.py:1043: InsecureRequestWarning: Unverified HTTPS request is being made to host 'localhost'. Adding certificate verification is strongly advised. See: https://urllib3.readthedocs.io/en/1.26.x/advanced-usage.html#ssl-warnings\n",
      "  warnings.warn(\n"
     ]
    }
   ],
   "source": [
    "es = login()"
   ]
  },
  {
   "cell_type": "markdown",
   "metadata": {
    "pycharm": {
     "name": "#%% md\n"
    }
   },
   "source": [
    "# Search in index"
   ]
  },
  {
   "cell_type": "code",
   "execution_count": 9,
   "metadata": {
    "pycharm": {
     "name": "#%%\n"
    }
   },
   "outputs": [
    {
     "name": "stdout",
     "output_type": "stream",
     "text": [
      "Question: Was steht im Fokus des Studiums?\n",
      "Query Duration: 20 milliseconds\n",
      "Title, Relevance Score:\n"
     ]
    },
    {
     "name": "stderr",
     "output_type": "stream",
     "text": [
      "C:\\Users\\chatbot\\PycharmProjects\\chatbot_project\\venv\\lib\\site-packages\\urllib3\\connectionpool.py:1043: InsecureRequestWarning: Unverified HTTPS request is being made to host 'localhost'. Adding certificate verification is strongly advised. See: https://urllib3.readthedocs.io/en/1.26.x/advanced-usage.html#ssl-warnings\n",
      "  warnings.warn(\n"
     ]
    },
    {
     "data": {
      "text/plain": "[('Wirtschaftsinformatik-Application Management', 5.699464),\n ('Studienziele', 3.606553),\n ('Studienportal', 2.5081196),\n ('Studienvorbereitung Mathematik', 2.425592),\n ('Studieninhalte', 1.669601),\n ('Studienbeginn & Regelstudienzeit', 1.3914851),\n ('Eckdaten Wirtschaftsinformatik-Application Management', 0.92852104),\n ('Job & Karriere', 0.792441)]"
     },
     "execution_count": 9,
     "metadata": {},
     "output_type": "execute_result"
    }
   ],
   "source": [
    "\n",
    "question_text = 'Was steht im Fokus des Studiums?'\n",
    "\n",
    "es_answers = search_es(es_instance=es, index_name=index_name, question_text=question_text, number_of_results=10)\n",
    "\n",
    "print(f'Question: {question_text}')\n",
    "print(f'Query Duration: {es_answers[\"took\"]} milliseconds')\n",
    "print('Title, Relevance Score:')\n",
    "[(hit['_source']['document_title'], hit['_score']) for hit in es_answers['hits']['hits']]\n"
   ]
  },
  {
   "cell_type": "markdown",
   "source": [
    "# Define QA Pipeline\n"
   ],
   "metadata": {
    "collapsed": false,
    "pycharm": {
     "name": "#%% md\n"
    }
   },
   "execution_count": 1
  },
  {
   "cell_type": "code",
   "execution_count": 10,
   "metadata": {
    "pycharm": {
     "name": "#%%\n"
    }
   },
   "outputs": [],
   "source": [
    "qas = pipeline(\n",
    "    model='deutsche-telekom/bert-multi-english-german-squad2',\n",
    "    task='question-answering'\n",
    "    )"
   ]
  },
  {
   "cell_type": "code",
   "execution_count": 11,
   "outputs": [],
   "source": [
    "# Let the model get a answer"
   ],
   "metadata": {
    "collapsed": false,
    "pycharm": {
     "name": "#%%\n"
    }
   }
  },
  {
   "cell_type": "code",
   "execution_count": 12,
   "metadata": {
    "pycharm": {
     "name": "#%%\n"
    }
   },
   "outputs": [
    {
     "name": "stdout",
     "output_type": "stream",
     "text": [
      "{'score': 0.07189861685037613, 'start': 262, 'end': 286, 'answer': 'aktuelle IT-Technologien'}\n"
     ]
    }
   ],
   "source": [
    "answer = qas(\n",
    "    question=question_text,\n",
    "    context=es_answers['hits']['hits'][0]['_source']['document_text']\n",
    "    )\n",
    "print(answer)"
   ]
  },
  {
   "cell_type": "markdown",
   "source": [
    "# Get the best answer according to Happy face' score from the 10 most relevant database entry's according to elastic search"
   ],
   "metadata": {
    "collapsed": false,
    "pycharm": {
     "name": "#%% md\n"
    }
   }
  },
  {
   "cell_type": "code",
   "execution_count": 25,
   "outputs": [
    {
     "name": "stdout",
     "output_type": "stream",
     "text": [
      "{'score': 0.7899596095085144, 'start': 59, 'end': 75, 'answer': 'Theorie & Praxis'}\n"
     ]
    }
   ],
   "source": [
    "best_answer = {'score': 0}\n",
    "\n",
    "for hit in es_answers['hits']['hits']:\n",
    "    answer = qas(\n",
    "        question=question_text,\n",
    "        context=hit['_source']['document_text']\n",
    "        )\n",
    "    if answer['score'] > best_answer['score']:\n",
    "        best_answer = answer\n",
    "\n",
    "print(best_answer)"
   ],
   "metadata": {
    "collapsed": false,
    "pycharm": {
     "name": "#%%\n"
    }
   }
  },
  {
   "cell_type": "code",
   "execution_count": 13,
   "outputs": [],
   "source": [
    "# Write the answer to a JSON file"
   ],
   "metadata": {
    "collapsed": false,
    "pycharm": {
     "name": "#%%\n"
    }
   }
  },
  {
   "cell_type": "code",
   "execution_count": 14,
   "metadata": {
    "pycharm": {
     "name": "#%%\n"
    }
   },
   "outputs": [],
   "source": [
    "answer_dict = dict([\n",
    "    (\"question\", question_text),\n",
    "    (\"answer\", best_answer[\"answer\"]),\n",
    "    (\"score\", best_answer['score']),\n",
    "    ('link', es_answers['hits']['hits'][0]['_source']['link'])\n",
    "    ])\n",
    "\n",
    "with open('answer.json', 'w') as file:\n",
    "    json.dump(answer_dict, file, ensure_ascii=False)\n"
   ]
  }
 ],
 "metadata": {
  "kernelspec": {
   "display_name": "Python 3 (ipykernel)",
   "language": "python",
   "name": "python3"
  },
  "language_info": {
   "codemirror_mode": {
    "name": "ipython",
    "version": 3
   },
   "file_extension": ".py",
   "mimetype": "text/x-python",
   "name": "python",
   "nbconvert_exporter": "python",
   "pygments_lexer": "ipython3",
   "version": "3.10.5"
  }
 },
 "nbformat": 4,
 "nbformat_minor": 1
}