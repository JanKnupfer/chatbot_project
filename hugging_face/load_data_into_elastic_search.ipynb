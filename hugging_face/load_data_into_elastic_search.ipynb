{
 "cells": [
  {
   "cell_type": "code",
   "execution_count": 58,
   "outputs": [
    {
     "name": "stdout",
     "output_type": "stream",
     "text": [
      "Requirement already satisfied: elasticsearch in c:\\users\\knupf\\pycharmprojects\\chatbot_project\\venv\\lib\\site-packages (8.2.2)\n",
      "Requirement already satisfied: elastic-transport<9,>=8 in c:\\users\\knupf\\pycharmprojects\\chatbot_project\\venv\\lib\\site-packages (from elasticsearch) (8.1.2)\n",
      "Requirement already satisfied: urllib3<2,>=1.26.2 in c:\\users\\knupf\\pycharmprojects\\chatbot_project\\venv\\lib\\site-packages (from elastic-transport<9,>=8->elasticsearch) (1.26.9)\n",
      "Requirement already satisfied: certifi in c:\\users\\knupf\\pycharmprojects\\chatbot_project\\venv\\lib\\site-packages (from elastic-transport<9,>=8->elasticsearch) (2022.5.18.1)\n",
      "Note: you may need to restart the kernel to use updated packages.\n"
     ]
    },
    {
     "name": "stderr",
     "output_type": "stream",
     "text": [
      "WARNING: You are using pip version 21.3.1; however, version 22.1.2 is available.\n",
      "You should consider upgrading via the 'C:\\Users\\Knupf\\PycharmProjects\\chatbot_project\\venv\\Scripts\\python.exe -m pip install --upgrade pip' command.\n"
     ]
    }
   ],
   "source": [
    "%pip install elasticsearch"
   ],
   "metadata": {
    "collapsed": false,
    "pycharm": {
     "name": "#%%\n"
    }
   }
  },
  {
   "cell_type": "code",
   "execution_count": 59,
   "outputs": [
    {
     "name": "stdout",
     "output_type": "stream",
     "text": [
      "Requirement already satisfied: transformers in c:\\users\\knupf\\pycharmprojects\\chatbot_project\\venv\\lib\\site-packages (4.19.4)\n",
      "Requirement already satisfied: tokenizers!=0.11.3,<0.13,>=0.11.1 in c:\\users\\knupf\\pycharmprojects\\chatbot_project\\venv\\lib\\site-packages (from transformers) (0.12.1)\n",
      "Requirement already satisfied: pyyaml>=5.1 in c:\\users\\knupf\\pycharmprojects\\chatbot_project\\venv\\lib\\site-packages (from transformers) (6.0)\n",
      "Requirement already satisfied: numpy>=1.17 in c:\\users\\knupf\\pycharmprojects\\chatbot_project\\venv\\lib\\site-packages (from transformers) (1.22.4)\n",
      "Requirement already satisfied: regex!=2019.12.17 in c:\\users\\knupf\\pycharmprojects\\chatbot_project\\venv\\lib\\site-packages (from transformers) (2022.6.2)\n",
      "Requirement already satisfied: tqdm>=4.27 in c:\\users\\knupf\\pycharmprojects\\chatbot_project\\venv\\lib\\site-packages (from transformers) (4.64.0)\n",
      "Requirement already satisfied: packaging>=20.0 in c:\\users\\knupf\\pycharmprojects\\chatbot_project\\venv\\lib\\site-packages (from transformers) (21.3)\n",
      "Requirement already satisfied: huggingface-hub<1.0,>=0.1.0 in c:\\users\\knupf\\pycharmprojects\\chatbot_project\\venv\\lib\\site-packages (from transformers) (0.7.0)\n",
      "Requirement already satisfied: filelock in c:\\users\\knupf\\pycharmprojects\\chatbot_project\\venv\\lib\\site-packages (from transformers) (3.7.1)\n",
      "Requirement already satisfied: requests in c:\\users\\knupf\\pycharmprojects\\chatbot_project\\venv\\lib\\site-packages (from transformers) (2.28.0)\n",
      "Requirement already satisfied: typing-extensions>=3.7.4.3 in c:\\users\\knupf\\pycharmprojects\\chatbot_project\\venv\\lib\\site-packages (from huggingface-hub<1.0,>=0.1.0->transformers) (4.2.0)\n",
      "Requirement already satisfied: pyparsing!=3.0.5,>=2.0.2 in c:\\users\\knupf\\pycharmprojects\\chatbot_project\\venv\\lib\\site-packages (from packaging>=20.0->transformers) (3.0.9)\n",
      "Requirement already satisfied: colorama in c:\\users\\knupf\\pycharmprojects\\chatbot_project\\venv\\lib\\site-packages (from tqdm>=4.27->transformers) (0.4.4)\n",
      "Requirement already satisfied: charset-normalizer~=2.0.0 in c:\\users\\knupf\\pycharmprojects\\chatbot_project\\venv\\lib\\site-packages (from requests->transformers) (2.0.12)\n",
      "Requirement already satisfied: idna<4,>=2.5 in c:\\users\\knupf\\pycharmprojects\\chatbot_project\\venv\\lib\\site-packages (from requests->transformers) (3.3)\n",
      "Requirement already satisfied: urllib3<1.27,>=1.21.1 in c:\\users\\knupf\\pycharmprojects\\chatbot_project\\venv\\lib\\site-packages (from requests->transformers) (1.26.9)\n",
      "Requirement already satisfied: certifi>=2017.4.17 in c:\\users\\knupf\\pycharmprojects\\chatbot_project\\venv\\lib\\site-packages (from requests->transformers) (2022.5.18.1)\n",
      "Note: you may need to restart the kernel to use updated packages.\n"
     ]
    },
    {
     "name": "stderr",
     "output_type": "stream",
     "text": [
      "WARNING: You are using pip version 21.3.1; however, version 22.1.2 is available.\n",
      "You should consider upgrading via the 'C:\\Users\\Knupf\\PycharmProjects\\chatbot_project\\venv\\Scripts\\python.exe -m pip install --upgrade pip' command.\n"
     ]
    }
   ],
   "source": [
    "%pip install transformers"
   ],
   "metadata": {
    "collapsed": false,
    "pycharm": {
     "name": "#%%\n"
    }
   }
  },
  {
   "cell_type": "code",
   "execution_count": 60,
   "outputs": [
    {
     "name": "stdout",
     "output_type": "stream",
     "text": [
      "Requirement already satisfied: torch in c:\\users\\knupf\\pycharmprojects\\chatbot_project\\venv\\lib\\site-packages (1.11.0)\n",
      "Requirement already satisfied: typing-extensions in c:\\users\\knupf\\pycharmprojects\\chatbot_project\\venv\\lib\\site-packages (from torch) (4.2.0)\n",
      "Note: you may need to restart the kernel to use updated packages.\n"
     ]
    },
    {
     "name": "stderr",
     "output_type": "stream",
     "text": [
      "WARNING: You are using pip version 21.3.1; however, version 22.1.2 is available.\n",
      "You should consider upgrading via the 'C:\\Users\\Knupf\\PycharmProjects\\chatbot_project\\venv\\Scripts\\python.exe -m pip install --upgrade pip' command.\n"
     ]
    }
   ],
   "source": [
    "%pip install torch"
   ],
   "metadata": {
    "collapsed": false,
    "pycharm": {
     "name": "#%%\n"
    }
   }
  },
  {
   "cell_type": "code",
   "execution_count": 61,
   "outputs": [],
   "source": [
    "from elastic_search.utilities.login import login\n",
    "from utilities.es_search import search_es\n",
    "from transformers import pipeline\n",
    "import json"
   ],
   "metadata": {
    "collapsed": false,
    "pycharm": {
     "name": "#%%\n"
    }
   }
  },
  {
   "cell_type": "markdown",
   "source": [
    "# Variables"
   ],
   "metadata": {
    "collapsed": false,
    "pycharm": {
     "name": "#%% md\n"
    }
   }
  },
  {
   "cell_type": "code",
   "execution_count": 62,
   "outputs": [],
   "source": [
    "# Get index name\n",
    "with open('..\\\\elastic_search\\\\utilities\\\\index_config.json') as file:\n",
    "    index_name = json.load(file)[0]['index_name']"
   ],
   "metadata": {
    "collapsed": false,
    "pycharm": {
     "name": "#%%\n"
    }
   }
  },
  {
   "cell_type": "markdown",
   "source": [
    "# Connect to elastic search"
   ],
   "metadata": {
    "collapsed": false,
    "pycharm": {
     "name": "#%% md\n"
    }
   }
  },
  {
   "cell_type": "code",
   "execution_count": 63,
   "outputs": [
    {
     "name": "stdout",
     "output_type": "stream",
     "text": [
      "Connecting to elastic search...\n",
      "Connection to elastic search successfully established\n"
     ]
    },
    {
     "name": "stderr",
     "output_type": "stream",
     "text": [
      "C:\\Users\\Knupf\\PycharmProjects\\chatbot_project\\venv\\lib\\site-packages\\urllib3\\connectionpool.py:1043: InsecureRequestWarning: Unverified HTTPS request is being made to host 'localhost'. Adding certificate verification is strongly advised. See: https://urllib3.readthedocs.io/en/1.26.x/advanced-usage.html#ssl-warnings\n",
      "  warnings.warn(\n"
     ]
    }
   ],
   "source": [
    "es = login()"
   ],
   "metadata": {
    "collapsed": false,
    "pycharm": {
     "name": "#%%\n"
    }
   }
  },
  {
   "cell_type": "markdown",
   "source": [
    "# Search in index"
   ],
   "metadata": {
    "collapsed": false,
    "pycharm": {
     "name": "#%% md\n"
    }
   }
  },
  {
   "cell_type": "code",
   "execution_count": 64,
   "outputs": [
    {
     "name": "stdout",
     "output_type": "stream",
     "text": [
      "Question: Was steht im Fokus des Studiums?\n",
      "Query Duration: 2 milliseconds\n",
      "Title, Relevance Score:\n"
     ]
    },
    {
     "name": "stderr",
     "output_type": "stream",
     "text": [
      "C:\\Users\\Knupf\\PycharmProjects\\chatbot_project\\venv\\lib\\site-packages\\urllib3\\connectionpool.py:1043: InsecureRequestWarning: Unverified HTTPS request is being made to host 'localhost'. Adding certificate verification is strongly advised. See: https://urllib3.readthedocs.io/en/1.26.x/advanced-usage.html#ssl-warnings\n",
      "  warnings.warn(\n"
     ]
    },
    {
     "data": {
      "text/plain": "[('Wirtschaftsinformatik-Application Management', 5.001475),\n ('Studienziele', 3.2230263),\n ('Studienportal', 2.1792238),\n ('Studienvorbereitung Mathematik', 2.1108859),\n ('Studieninhalte', 1.4140074),\n ('Studienbeginn & Regelstudienzeit', 1.1231436),\n ('Eckdaten Wirtschaftsinformatik-Application Management', 0.7666509),\n ('Job & Karriere', 0.65873516)]"
     },
     "execution_count": 64,
     "metadata": {},
     "output_type": "execute_result"
    }
   ],
   "source": [
    "\n",
    "question_text = 'Was steht im Fokus des Studiums?'\n",
    "\n",
    "es_answers = search_es(es_instance=es, index_name=index_name, question_text=question_text, number_of_results=10)\n",
    "\n",
    "print(f'Question: {question_text}')\n",
    "print(f'Query Duration: {es_answers[\"took\"]} milliseconds')\n",
    "print('Title, Relevance Score:')\n",
    "[(hit['_source']['document_title'], hit['_score']) for hit in es_answers['hits']['hits']]\n"
   ],
   "metadata": {
    "collapsed": false,
    "pycharm": {
     "name": "#%%\n"
    }
   }
  },
  {
   "cell_type": "code",
   "execution_count": 65,
   "outputs": [],
   "source": [
    "qas = pipeline(\n",
    "    model='deutsche-telekom/bert-multi-english-german-squad2',\n",
    "    task='question-answering'\n",
    "    )"
   ],
   "metadata": {
    "collapsed": false,
    "pycharm": {
     "name": "#%%\n"
    }
   }
  },
  {
   "cell_type": "code",
   "execution_count": 66,
   "outputs": [
    {
     "name": "stdout",
     "output_type": "stream",
     "text": [
      "{'score': 0.07189861685037613, 'start': 262, 'end': 286, 'answer': 'aktuelle IT-Technologien'}\n"
     ]
    }
   ],
   "source": [
    "answer = qas(\n",
    "    question=question_text,\n",
    "    context=es_answers['hits']['hits'][0]['_source']['document_text']\n",
    "    )\n",
    "print(answer)"
   ],
   "metadata": {
    "collapsed": false,
    "pycharm": {
     "name": "#%%\n"
    }
   }
  },
  {
   "cell_type": "code",
   "execution_count": 67,
   "outputs": [],
   "source": [
    "answer_dict = dict([\n",
    "    (\"question\", question_text),\n",
    "    (\"answer\", answer[\"answer\"]),\n",
    "    (\"score\", answer['score']),\n",
    "    ('link', es_answers['hits']['hits'][0]['_source']['link'])\n",
    "    ])\n",
    "\n",
    "with open('answer.json', 'w') as file:\n",
    "    json.dump(answer_dict, file, ensure_ascii=False)\n"
   ],
   "metadata": {
    "collapsed": false,
    "pycharm": {
     "name": "#%%\n"
    }
   }
  }
 ],
 "metadata": {
  "kernelspec": {
   "display_name": "Python 3",
   "language": "python",
   "name": "python3"
  },
  "language_info": {
   "codemirror_mode": {
    "name": "ipython",
    "version": 2
   },
   "file_extension": ".py",
   "mimetype": "text/x-python",
   "name": "python",
   "nbconvert_exporter": "python",
   "pygments_lexer": "ipython2",
   "version": "2.7.6"
  }
 },
 "nbformat": 4,
 "nbformat_minor": 0
}